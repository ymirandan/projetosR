{
 "cells": [
  {
   "cell_type": "markdown",
   "id": "911fe58b",
   "metadata": {},
   "source": [
    "# Exemplo de Teste de homogeneidade: \n",
    "\n",
    "A reação ao tratamento por quimioterapia está sendo estudada em quatro grupos de pacientes com câncer. \n",
    "\n",
    "Deseja-se investigar se os tipos diferentes de câncer reagem da mesma maneira ao tratamento por quimioterapia. \n",
    "\n",
    "Uma amostra de pacientes de cada grupo foi escolhida ao acaso e classificou-se a reação em três categorias, na seguinte Tabela:"
   ]
  },
  {
   "cell_type": "code",
   "execution_count": 2,
   "id": "7d6a382e",
   "metadata": {},
   "outputs": [
    {
     "data": {
      "text/html": [
       "<table>\n",
       "<thead><tr><th></th><th scope=col>Pouca </th><th scope=col> Média</th><th scope=col>Muita</th><th scope=col> Total</th></tr></thead>\n",
       "<tbody>\n",
       "\t<tr><th scope=row>Tipo I</th><td> 51</td><td> 33</td><td>16 </td><td>100</td></tr>\n",
       "\t<tr><th scope=row>Tipo II</th><td> 58</td><td> 29</td><td>13 </td><td>100</td></tr>\n",
       "\t<tr><th scope=row>Tipo III</th><td> 48</td><td> 42</td><td>30 </td><td>120</td></tr>\n",
       "\t<tr><th scope=row> Tipo IV</th><td> 26</td><td> 38</td><td>16 </td><td> 80</td></tr>\n",
       "\t<tr><th scope=row>Total</th><td>183</td><td>142</td><td>75 </td><td>400</td></tr>\n",
       "</tbody>\n",
       "</table>\n"
      ],
      "text/latex": [
       "\\begin{tabular}{r|llll}\n",
       "  & Pouca  &  Média & Muita &  Total\\\\\n",
       "\\hline\n",
       "\tTipo I &  51 &  33 & 16  & 100\\\\\n",
       "\tTipo II &  58 &  29 & 13  & 100\\\\\n",
       "\tTipo III &  48 &  42 & 30  & 120\\\\\n",
       "\t Tipo IV &  26 &  38 & 16  &  80\\\\\n",
       "\tTotal & 183 & 142 & 75  & 400\\\\\n",
       "\\end{tabular}\n"
      ],
      "text/markdown": [
       "\n",
       "| <!--/--> | Pouca  |  Média | Muita |  Total |\n",
       "|---|---|---|---|---|\n",
       "| Tipo I |  51 |  33 | 16  | 100 |\n",
       "| Tipo II |  58 |  29 | 13  | 100 |\n",
       "| Tipo III |  48 |  42 | 30  | 120 |\n",
       "|  Tipo IV |  26 |  38 | 16  |  80 |\n",
       "| Total | 183 | 142 | 75  | 400 |\n",
       "\n"
      ],
      "text/plain": [
       "         Pouca   Média Muita  Total\n",
       "Tipo I    51     33    16    100   \n",
       "Tipo II   58     29    13    100   \n",
       "Tipo III  48     42    30    120   \n",
       " Tipo IV  26     38    16     80   \n",
       "Total    183    142    75    400   "
      ]
     },
     "metadata": {},
     "output_type": "display_data"
    }
   ],
   "source": [
    "tabela = rbind(cbind(51,33,16),cbind(58,29,13),cbind(48,42,30), cbind(26,38,16))\n",
    "tabela = as.matrix(tabela,nrow=4,byrow=TRUE)\n",
    "dimnames(tabela) = list(c(\"Tipo I\",\"Tipo II\",\"Tipo III\", \"Tipo IV\"), c(\"Pouca\", \"Média\", \"Alta\"))\n",
    "tabelat = cbind(tabela,apply(tabela,1,sum))\n",
    "tabelat = rbind(tabelat,apply(tabelat,2,sum))\n",
    "dimnames(tabelat) = list(c(\"Tipo I\",\"Tipo II\",\"Tipo III\",\" Tipo IV\", \"Total\"),c(\"Pouca \",\" Média\",\"Muita\",\" Total\"))\n",
    "tabelat"
   ]
  },
  {
   "cell_type": "markdown",
   "id": "d1346bdc",
   "metadata": {},
   "source": [
    "No teste de homogeneidade desejamos verificar se uma variável aleatória se comporta de modo similar, ou homogêneo, em várias subpopulações. \n",
    "\n",
    "Portanto, no exemplo acima iremos considerar $H_0$ como \"O comportamento da variável é homogêneo nas subpopulações\" e $H_1$ \"O comportamento da variável não é homogêneo nas subpopulações\". \n",
    "\n",
    "Nesse teste, fixamos o tamanho da amostra em cada uma das subpopulações e selecionamos uma amostra dentro de cada um."
   ]
  },
  {
   "cell_type": "markdown",
   "id": "5abcfd95",
   "metadata": {},
   "source": [
    "### Passo 1:\n",
    "\n",
    "Fazer o cálculo dos valores esperados ($e_{ij} = n_{i} * \\frac{\\mbox{total da coluna j}}{\\mbox{total geral}}$)\n",
    "\n",
    "Abaixo temos a Tabela com os valores observados e, entre parenteses, os esperados. Caso haja homogeneidade de comportamento da variável, esperamos que essa proporção seja a mesma em todas as subpopulações."
   ]
  },
  {
   "cell_type": "code",
   "execution_count": 58,
   "id": "248e6693",
   "metadata": {},
   "outputs": [
    {
     "data": {
      "text/html": [
       "<table>\n",
       "<thead><tr><th></th><th scope=col>Pouca </th><th scope=col> Média</th><th scope=col>Muita</th><th scope=col> Total</th></tr></thead>\n",
       "<tbody>\n",
       "\t<tr><th scope=row>Tipo I</th><td>51 (45,75)</td><td>33 (35,50)</td><td>16 (18,75)</td><td>100       </td></tr>\n",
       "\t<tr><th scope=row>Tipo II</th><td>58 (45,75)</td><td>29 (35,50)</td><td>13 (18,75)</td><td>100       </td></tr>\n",
       "\t<tr><th scope=row>Tipo III</th><td>48 (54,90)</td><td>42(42,60) </td><td>30 (22,50)</td><td>120       </td></tr>\n",
       "\t<tr><th scope=row> Tipo IV</th><td>26 (36,60)</td><td>38 (28,40)</td><td>16 (15,00)</td><td>80        </td></tr>\n",
       "\t<tr><th scope=row>Total</th><td>183       </td><td>142       </td><td>75        </td><td>400       </td></tr>\n",
       "</tbody>\n",
       "</table>\n"
      ],
      "text/latex": [
       "\\begin{tabular}{r|llll}\n",
       "  & Pouca  &  Média & Muita &  Total\\\\\n",
       "\\hline\n",
       "\tTipo I & 51 (45,75) & 33 (35,50) & 16 (18,75) & 100       \\\\\n",
       "\tTipo II & 58 (45,75) & 29 (35,50) & 13 (18,75) & 100       \\\\\n",
       "\tTipo III & 48 (54,90) & 42(42,60)  & 30 (22,50) & 120       \\\\\n",
       "\t Tipo IV & 26 (36,60) & 38 (28,40) & 16 (15,00) & 80        \\\\\n",
       "\tTotal & 183        & 142        & 75         & 400       \\\\\n",
       "\\end{tabular}\n"
      ],
      "text/markdown": [
       "\n",
       "| <!--/--> | Pouca  |  Média | Muita |  Total |\n",
       "|---|---|---|---|---|\n",
       "| Tipo I | 51 (45,75) | 33 (35,50) | 16 (18,75) | 100        |\n",
       "| Tipo II | 58 (45,75) | 29 (35,50) | 13 (18,75) | 100        |\n",
       "| Tipo III | 48 (54,90) | 42(42,60)  | 30 (22,50) | 120        |\n",
       "|  Tipo IV | 26 (36,60) | 38 (28,40) | 16 (15,00) | 80         |\n",
       "| Total | 183        | 142        | 75         | 400        |\n",
       "\n"
      ],
      "text/plain": [
       "         Pouca       Média     Muita       Total\n",
       "Tipo I   51 (45,75) 33 (35,50) 16 (18,75) 100   \n",
       "Tipo II  58 (45,75) 29 (35,50) 13 (18,75) 100   \n",
       "Tipo III 48 (54,90) 42(42,60)  30 (22,50) 120   \n",
       " Tipo IV 26 (36,60) 38 (28,40) 16 (15,00) 80    \n",
       "Total    183        142        75         400   "
      ]
     },
     "metadata": {},
     "output_type": "display_data"
    }
   ],
   "source": [
    "c1 = c(\"51 (45,75)\",\"33 (35,50)\",\"16 (18,75)\", 100)\n",
    "c2 = c(\"58 (45,75)\",\"29 (35,50)\" ,\"13 (18,75)\", 100)\n",
    "c3 = c(\"48 (54,90)\",\"42(42,60)\",\"30 (22,50)\", 120)\n",
    "c4 = c(\"26 (36,60)\",\"38 (28,40)\",\"16 (15,00)\", 80)\n",
    "c5 = c(183, 142, 75, 400)\n",
    "t = rbind(c1, c2, c3, c4, c5)\n",
    "dimnames(t) = list(c(\"Tipo I\",\"Tipo II\",\"Tipo III\",\" Tipo IV\", \"Total\"),c(\"Pouca \",\" Média\",\"Muita\",\" Total\"))\n",
    "t"
   ]
  },
  {
   "cell_type": "markdown",
   "id": "57f57189",
   "metadata": {},
   "source": [
    "### Passo 2: \n",
    "Realizar a estatística do teste de homogeneidade ($\\chi^2 = \\sum_{i=1}^{s}\\sum_{i=1}^{r}\\frac{(O_{ij} - E_{ij})^2}{E_{ij}})$ , em que r = quantidade de linhas e s = quantidade de colunas\n",
    "\n",
    "### Passo 3:\n",
    "Supondo $H_0$ verdade: $\\chi^2 = \\sum_{i=1}^{s}\\sum_{i=1}^{r}\\frac{(O_{ij} - E_{ij})^2}{E_{ij}} \\mbox{ segue } \\chi_{q}^{2}$, em que q = (r-1) * (s-1) = (4-1) * (3-1) = 6 graus de liberdade\n",
    "\n",
    "Para o cálculo, iremos considerar a Tabela t1 a seguir (similar à t, mas contendo apenas os valores observados):"
   ]
  },
  {
   "cell_type": "code",
   "execution_count": 7,
   "id": "3e817cb7",
   "metadata": {},
   "outputs": [
    {
     "data": {
      "text/html": [
       "<table>\n",
       "<thead><tr><th></th><th scope=col>Pouca </th><th scope=col> Média</th><th scope=col>Muita</th></tr></thead>\n",
       "<tbody>\n",
       "\t<tr><th scope=row>Tipo I</th><td>51</td><td>33</td><td>16</td></tr>\n",
       "\t<tr><th scope=row>Tipo II</th><td>58</td><td>29</td><td>13</td></tr>\n",
       "\t<tr><th scope=row>Tipo III</th><td>48</td><td>42</td><td>30</td></tr>\n",
       "\t<tr><th scope=row> Tipo IV</th><td>26</td><td>38</td><td>16</td></tr>\n",
       "</tbody>\n",
       "</table>\n"
      ],
      "text/latex": [
       "\\begin{tabular}{r|lll}\n",
       "  & Pouca  &  Média & Muita\\\\\n",
       "\\hline\n",
       "\tTipo I & 51 & 33 & 16\\\\\n",
       "\tTipo II & 58 & 29 & 13\\\\\n",
       "\tTipo III & 48 & 42 & 30\\\\\n",
       "\t Tipo IV & 26 & 38 & 16\\\\\n",
       "\\end{tabular}\n"
      ],
      "text/markdown": [
       "\n",
       "| <!--/--> | Pouca  |  Média | Muita |\n",
       "|---|---|---|---|\n",
       "| Tipo I | 51 | 33 | 16 |\n",
       "| Tipo II | 58 | 29 | 13 |\n",
       "| Tipo III | 48 | 42 | 30 |\n",
       "|  Tipo IV | 26 | 38 | 16 |\n",
       "\n"
      ],
      "text/plain": [
       "         Pouca   Média Muita\n",
       "Tipo I   51     33     16   \n",
       "Tipo II  58     29     13   \n",
       "Tipo III 48     42     30   \n",
       " Tipo IV 26     38     16   "
      ]
     },
     "metadata": {},
     "output_type": "display_data"
    },
    {
     "data": {
      "text/plain": [
       "\n",
       "\tPearson's Chi-squared test\n",
       "\n",
       "data:  t1\n",
       "X-squared = 17.173, df = 6, p-value = 0.008669\n"
      ]
     },
     "metadata": {},
     "output_type": "display_data"
    }
   ],
   "source": [
    "c1. = c(51,33,16)\n",
    "c2. = c(58,29,13)\n",
    "c3. = c(48,42,30)\n",
    "c4. = c(26,38,16)\n",
    "t1 = rbind(c1., c2., c3., c4.)\n",
    "dimnames(t1) = list(c(\"Tipo I\",\"Tipo II\",\"Tipo III\",\" Tipo IV\"),c(\"Pouca \",\" Média\",\"Muita\"))\n",
    "t1\n",
    "chisq.test(t1)"
   ]
  },
  {
   "cell_type": "markdown",
   "id": "07dbf6b0",
   "metadata": {},
   "source": [
    "Considerando $\\alpha$ igual a 0,01: p valor < $\\alpha$, logo, rejeitamos $H_0$. O nível de reação de quatro tipos de câncer não acontece de modo homogêneo, não é similar."
   ]
  },
  {
   "cell_type": "markdown",
   "id": "9e459e07",
   "metadata": {},
   "source": [
    "# Exemplo Teste Exato de Fisher:\n",
    "\n",
    "Deseja-se verificar se o uso de um remédio, no tratamento de uma doença, pode levar os pacientes a ter hipertensão. \n",
    "\n",
    "Para isso, foi feito um teste em que uma amostra de pacientes toma o remédio e outra toma um placebo. Depois, foi verificado se eles tiveram hipertensão. Nesse cenário, consideramos $H_0$ como \"as variáveis são independentes\" e $H_1$ como \"as variáveis não são independentes\".\n",
    "\n",
    "Na Tabela a seguir temos os resultados da pesquisa: "
   ]
  },
  {
   "cell_type": "code",
   "execution_count": 10,
   "id": "340b7cda",
   "metadata": {},
   "outputs": [
    {
     "data": {
      "text/html": [
       "<table>\n",
       "<thead><tr><th></th><th scope=col>Teve hipertensão</th><th scope=col> Não teve hipertensão</th><th scope=col>Total</th></tr></thead>\n",
       "<tbody>\n",
       "\t<tr><th scope=row>Remédio</th><td>1 </td><td>5 </td><td> 6</td></tr>\n",
       "\t<tr><th scope=row>Placebo</th><td>8 </td><td>2 </td><td>10</td></tr>\n",
       "\t<tr><th scope=row>Total</th><td>9 </td><td>7 </td><td>16</td></tr>\n",
       "</tbody>\n",
       "</table>\n"
      ],
      "text/latex": [
       "\\begin{tabular}{r|lll}\n",
       "  & Teve hipertensão &  Não teve hipertensão & Total\\\\\n",
       "\\hline\n",
       "\tRemédio & 1  & 5  &  6\\\\\n",
       "\tPlacebo & 8  & 2  & 10\\\\\n",
       "\tTotal & 9  & 7  & 16\\\\\n",
       "\\end{tabular}\n"
      ],
      "text/markdown": [
       "\n",
       "| <!--/--> | Teve hipertensão |  Não teve hipertensão | Total |\n",
       "|---|---|---|---|\n",
       "| Remédio | 1  | 5  |  6 |\n",
       "| Placebo | 8  | 2  | 10 |\n",
       "| Total | 9  | 7  | 16 |\n",
       "\n"
      ],
      "text/plain": [
       "        Teve hipertensão  Não teve hipertensão Total\n",
       "Remédio 1                5                      6   \n",
       "Placebo 8                2                     10   \n",
       "Total   9                7                     16   "
      ]
     },
     "metadata": {},
     "output_type": "display_data"
    }
   ],
   "source": [
    "d1. = c(1,5,6)\n",
    "d2. = c(8,2,10)\n",
    "tot = c(9,7,16)\n",
    "t2 = rbind(d1., d2., tot)\n",
    "dimnames(t2) = list(c(\"Remédio\",\"Placebo\", \"Total\"),c(\"Teve hipertensão\",\" Não teve hipertensão\", \"Total\"))\n",
    "t2"
   ]
  },
  {
   "cell_type": "markdown",
   "id": "2dede7f3",
   "metadata": {},
   "source": [
    "Se mantivermos esses totais (amostra de tamanho 16, 6 receberam o remédio, 10 o placebo, 9 tiveram hipertensão e 7 não tiveram), temos $C_{16,9}$ combinações. Considerando a coluna \"Teve hipertensão\", a probabilidade de termos exatamente a tabela acima é dada por:\n",
    "$$\\frac{C_{6,1}*C_{10,8}}{C_{16,9}} = 0,0236 = 2,36\\%$$\n",
    "\n",
    "De todas as combinações em que 9 pessoas vão ter hipertensão e 7 não vao ter, 3 tem probabilidade de ocorrência igual ou menor que o correspondente à amostra. São elas: \n",
    "\n",
    "| $ \\frac{C_{6,0}*C_{10,9}}{C_{16,9}} = 0,00087 $  | $\\frac{C_{6,1}*C_{10,8}}{C_{16,9}} = 0,02360 $ | $\\frac{C_{6,6}*C_{10,3}}{C_{16,9}} = 0,01049 $ |\n",
    "\n",
    "O p valor é calculado somando as probabilidades dessas 3 ocorrências, ou seja, $0,0087+0,02360+0,01049 = 0,035$. Considerando $\\alpha$ igual a 0,01: p-valor > $\\alpha$, logo, aceitamos $H_0$. Assim, consideramos que as variáveis são idependentes, o uso do remédio não leva à hipertensão."
   ]
  }
 ],
 "metadata": {
  "kernelspec": {
   "display_name": "R",
   "language": "R",
   "name": "ir"
  },
  "language_info": {
   "codemirror_mode": "r",
   "file_extension": ".r",
   "mimetype": "text/x-r-source",
   "name": "R",
   "pygments_lexer": "r",
   "version": "3.6.1"
  }
 },
 "nbformat": 4,
 "nbformat_minor": 5
}
