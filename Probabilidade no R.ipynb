{
 "cells": [
  {
   "cell_type": "code",
   "execution_count": 19,
   "id": "bda5e1d4",
   "metadata": {},
   "outputs": [],
   "source": [
    "fx = function(x){\n",
    "    f = numeric(length(x))\n",
    "    f[x >= 0 & x<=2] = (1/10) * x[x >= 0 & x<=2] + 1/10\n",
    "    f[x >2  & x <= 6] = (-3/40) *x[x >2  & x <= 6] + 9/20\n",
    "    f[x<0 || x>6] = 0\n",
    "    return(f)\n",
    "}"
   ]
  },
  {
   "cell_type": "markdown",
   "id": "4a3f1e63",
   "metadata": {},
   "source": [
    "a) Mostre que f(x) é um função densidade de probabilidade:"
   ]
  },
  {
   "cell_type": "code",
   "execution_count": 20,
   "id": "22e75a0f",
   "metadata": {},
   "outputs": [
    {
     "data": {
      "text/plain": [
       "1 with absolute error < 1.1e-15"
      ]
     },
     "metadata": {},
     "output_type": "display_data"
    }
   ],
   "source": [
    "integrate(fx,0,6)"
   ]
  },
  {
   "cell_type": "markdown",
   "id": "ea5fd9e5",
   "metadata": {},
   "source": [
    "b) Qual a renda média nessa localidade?"
   ]
  },
  {
   "cell_type": "code",
   "execution_count": 21,
   "id": "37b0804f",
   "metadata": {},
   "outputs": [
    {
     "data": {
      "text/plain": [
       "2.466667 with absolute error < 1e-04"
      ]
     },
     "metadata": {},
     "output_type": "display_data"
    }
   ],
   "source": [
    "efx = function(x) {\n",
    "x * fx(x)\n",
    "}\n",
    "integrate(efx, 0, 6)"
   ]
  },
  {
   "cell_type": "markdown",
   "id": "49c30c2e",
   "metadata": {},
   "source": [
    "c) Escolhida uma pessoa ao acaso, qual a probabilidade de sua renda ser superior a 3 u.m.? \n"
   ]
  },
  {
   "cell_type": "code",
   "execution_count": 21,
   "id": "8ef29e90",
   "metadata": {
    "scrolled": true
   },
   "outputs": [
    {
     "data": {
      "text/plain": [
       "1.298014 with absolute error < 5.7e-11"
      ]
     },
     "metadata": {},
     "output_type": "display_data"
    }
   ],
   "source": [
    "integrate(fx,3,Inf)"
   ]
  }
 ],
 "metadata": {
  "kernelspec": {
   "display_name": "R",
   "language": "R",
   "name": "ir"
  },
  "language_info": {
   "codemirror_mode": "r",
   "file_extension": ".r",
   "mimetype": "text/x-r-source",
   "name": "R",
   "pygments_lexer": "r",
   "version": "3.6.1"
  }
 },
 "nbformat": 4,
 "nbformat_minor": 5
}
