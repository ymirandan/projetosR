{
 "cells": [
  {
   "cell_type": "markdown",
   "id": "6787f685",
   "metadata": {},
   "source": [
    "# Encontrando a média e variância de um vetor contendo NA"
   ]
  },
  {
   "cell_type": "code",
   "execution_count": 3,
   "id": "59d98873",
   "metadata": {
    "scrolled": true
   },
   "outputs": [
    {
     "data": {
      "text/html": [
       "<ol class=list-inline>\n",
       "\t<li>7</li>\n",
       "\t<li>&lt;NA&gt;</li>\n",
       "\t<li>5</li>\n",
       "\t<li>8</li>\n",
       "\t<li>9</li>\n",
       "\t<li>&lt;NA&gt;</li>\n",
       "</ol>\n"
      ],
      "text/latex": [
       "\\begin{enumerate*}\n",
       "\\item 7\n",
       "\\item <NA>\n",
       "\\item 5\n",
       "\\item 8\n",
       "\\item 9\n",
       "\\item <NA>\n",
       "\\end{enumerate*}\n"
      ],
      "text/markdown": [
       "1. 7\n",
       "2. &lt;NA&gt;\n",
       "3. 5\n",
       "4. 8\n",
       "5. 9\n",
       "6. &lt;NA&gt;\n",
       "\n",
       "\n"
      ],
      "text/plain": [
       "[1]  7 NA  5  8  9 NA"
      ]
     },
     "metadata": {},
     "output_type": "display_data"
    }
   ],
   "source": [
    "vetor = c(7,NA,5,8,9,NA); vetor"
   ]
  },
  {
   "cell_type": "markdown",
   "id": "a7829537",
   "metadata": {},
   "source": [
    "## 1. utilizando comandos"
   ]
  },
  {
   "cell_type": "code",
   "execution_count": 2,
   "id": "d632d64d",
   "metadata": {},
   "outputs": [
    {
     "data": {
      "text/html": [
       "&lt;NA&gt;"
      ],
      "text/latex": [
       "<NA>"
      ],
      "text/markdown": [
       "&lt;NA&gt;"
      ],
      "text/plain": [
       "[1] NA"
      ]
     },
     "metadata": {},
     "output_type": "display_data"
    },
    {
     "data": {
      "text/html": [
       "7.25"
      ],
      "text/latex": [
       "7.25"
      ],
      "text/markdown": [
       "7.25"
      ],
      "text/plain": [
       "[1] 7.25"
      ]
     },
     "metadata": {},
     "output_type": "display_data"
    },
    {
     "data": {
      "text/html": [
       "&lt;NA&gt;"
      ],
      "text/latex": [
       "<NA>"
      ],
      "text/markdown": [
       "&lt;NA&gt;"
      ],
      "text/plain": [
       "[1] NA"
      ]
     },
     "metadata": {},
     "output_type": "display_data"
    },
    {
     "data": {
      "text/html": [
       "2.91666666666667"
      ],
      "text/latex": [
       "2.91666666666667"
      ],
      "text/markdown": [
       "2.91666666666667"
      ],
      "text/plain": [
       "[1] 2.916667"
      ]
     },
     "metadata": {},
     "output_type": "display_data"
    }
   ],
   "source": [
    "mean(vetor)\n",
    "mean(vetor, na.rm=TRUE)\n",
    "var(vetor)\n",
    "var(vetor, na.rm = TRUE)"
   ]
  },
  {
   "cell_type": "markdown",
   "id": "6df2f869",
   "metadata": {},
   "source": [
    "## 2. criando funções"
   ]
  },
  {
   "cell_type": "code",
   "execution_count": 4,
   "id": "0d646e4f",
   "metadata": {},
   "outputs": [],
   "source": [
    "media = function(x){\n",
    "    n = length(vetor)\n",
    "    s= 0\n",
    "    for (i in 1:n){\n",
    "        if (is.na(vetor[i])){\n",
    "        s = s + 0\n",
    "        n=n-1\n",
    "        }\n",
    "        else{\n",
    "          s= s+vetor[i]\n",
    "          n = n\n",
    "        }\n",
    "    }\n",
    "    m = s/n\n",
    "        return(m)\n",
    "}"
   ]
  },
  {
   "cell_type": "code",
   "execution_count": 5,
   "id": "198c7a8c",
   "metadata": {},
   "outputs": [
    {
     "data": {
      "text/html": [
       "7.25"
      ],
      "text/latex": [
       "7.25"
      ],
      "text/markdown": [
       "7.25"
      ],
      "text/plain": [
       "[1] 7.25"
      ]
     },
     "metadata": {},
     "output_type": "display_data"
    }
   ],
   "source": [
    "media(vetor)"
   ]
  },
  {
   "cell_type": "code",
   "execution_count": 6,
   "id": "2d8cd317",
   "metadata": {},
   "outputs": [],
   "source": [
    "variancia = function(vetor){\n",
    "    x = media(vetor)\n",
    "    n = length(vetor)\n",
    "    v = 0\n",
    "    for (i in 1:n){\n",
    "        if(is.na(vetor[i])){\n",
    "            v=v\n",
    "            n=n-1\n",
    "        }\n",
    "        else{\n",
    "            v= (vetor[i] - x)^2+v\n",
    "            n = n     \n",
    "        }      \n",
    "    }\n",
    "    var = v/(n-1)\n",
    "    return(var)\n",
    "}"
   ]
  },
  {
   "cell_type": "code",
   "execution_count": 7,
   "id": "61e2e30f",
   "metadata": {},
   "outputs": [
    {
     "data": {
      "text/html": [
       "2.91666666666667"
      ],
      "text/latex": [
       "2.91666666666667"
      ],
      "text/markdown": [
       "2.91666666666667"
      ],
      "text/plain": [
       "[1] 2.916667"
      ]
     },
     "metadata": {},
     "output_type": "display_data"
    }
   ],
   "source": [
    "variancia(vetor)"
   ]
  }
 ],
 "metadata": {
  "kernelspec": {
   "display_name": "R",
   "language": "R",
   "name": "ir"
  },
  "language_info": {
   "codemirror_mode": "r",
   "file_extension": ".r",
   "mimetype": "text/x-r-source",
   "name": "R",
   "pygments_lexer": "r",
   "version": "3.6.1"
  }
 },
 "nbformat": 4,
 "nbformat_minor": 5
}
