{
 "cells": [
  {
   "cell_type": "markdown",
   "id": "182af924",
   "metadata": {},
   "source": [
    "## _Distribuição poison_: \n",
    "é uma distribuição de probabilidade para variaveis aleatorias discretas. \n",
    "é aplicada quando buscamos saber a ocorrencia de um numero de eventos em um intervalo especifico (tempo, area, volume, etc).\n",
    "a probabilidade do evento ocorrer é a mesma para cada intervalo e o numero de ocorrencias de um intervalo independe do outro. A probabilidade de uma distribuição de poison é dada por:\n",
    "$$P(X=x) = \\frac{\\lambda^x e^{-\\lambda}}{x!}$$\n",
    "em que $\\lambda$ é a taxa media de ocorrencias no intervalo, $e$ é a constante de euler e x é a quantidade de ocorrencias desejada"
   ]
  },
  {
   "cell_type": "code",
   "execution_count": 1,
   "id": "c147e418",
   "metadata": {},
   "outputs": [
    {
     "data": {
      "text/html": [
       "<ol class=list-inline>\n",
       "\t<li>1</li>\n",
       "\t<li>5</li>\n",
       "\t<li>6</li>\n",
       "\t<li>1</li>\n",
       "\t<li>10</li>\n",
       "\t<li>5</li>\n",
       "\t<li>2</li>\n",
       "\t<li>2</li>\n",
       "\t<li>2</li>\n",
       "\t<li>2</li>\n",
       "</ol>\n"
      ],
      "text/latex": [
       "\\begin{enumerate*}\n",
       "\\item 1\n",
       "\\item 5\n",
       "\\item 6\n",
       "\\item 1\n",
       "\\item 10\n",
       "\\item 5\n",
       "\\item 2\n",
       "\\item 2\n",
       "\\item 2\n",
       "\\item 2\n",
       "\\end{enumerate*}\n"
      ],
      "text/markdown": [
       "1. 1\n",
       "2. 5\n",
       "3. 6\n",
       "4. 1\n",
       "5. 10\n",
       "6. 5\n",
       "7. 2\n",
       "8. 2\n",
       "9. 2\n",
       "10. 2\n",
       "\n",
       "\n"
      ],
      "text/plain": [
       " [1]  1  5  6  1 10  5  2  2  2  2"
      ]
     },
     "metadata": {},
     "output_type": "display_data"
    }
   ],
   "source": [
    "rpois(10, 4) #gerando 10 numeros aleatorios com labda = 4"
   ]
  },
  {
   "cell_type": "markdown",
   "id": "9cc5382a",
   "metadata": {},
   "source": [
    "## _Distribuição uniforme_:\n",
    "é uma distribuição de probabilidade para variaveis continuas.\n",
    "é aplicada quando, em um intervalo especifico $[a,b]$, todos os valores tem a mesma probabilidade de ocorrencia. \n",
    "sua função densidade $f(x)$ é dada por:\n",
    "$$\\frac{1}{b-a}, \\mbox{ se x está entre a e b}$$\n",
    "$$0, \\mbox{ caso contrario}$$\n",
    "seus parametros sao o inicio e o fim do intervalo"
   ]
  },
  {
   "cell_type": "code",
   "execution_count": 14,
   "id": "7f126b13",
   "metadata": {},
   "outputs": [
    {
     "data": {
      "text/html": [
       "<ol class=list-inline>\n",
       "\t<li>53.9235967118293</li>\n",
       "\t<li>42.4390072887763</li>\n",
       "\t<li>25.9649136895314</li>\n",
       "\t<li>10.8118287753314</li>\n",
       "\t<li>3.81683789659292</li>\n",
       "\t<li>50.5068832961842</li>\n",
       "\t<li>13.290012977086</li>\n",
       "\t<li>59.9158081412315</li>\n",
       "\t<li>22.4399602040648</li>\n",
       "\t<li>56.7668990045786</li>\n",
       "</ol>\n"
      ],
      "text/latex": [
       "\\begin{enumerate*}\n",
       "\\item 53.9235967118293\n",
       "\\item 42.4390072887763\n",
       "\\item 25.9649136895314\n",
       "\\item 10.8118287753314\n",
       "\\item 3.81683789659292\n",
       "\\item 50.5068832961842\n",
       "\\item 13.290012977086\n",
       "\\item 59.9158081412315\n",
       "\\item 22.4399602040648\n",
       "\\item 56.7668990045786\n",
       "\\end{enumerate*}\n"
      ],
      "text/markdown": [
       "1. 53.9235967118293\n",
       "2. 42.4390072887763\n",
       "3. 25.9649136895314\n",
       "4. 10.8118287753314\n",
       "5. 3.81683789659292\n",
       "6. 50.5068832961842\n",
       "7. 13.290012977086\n",
       "8. 59.9158081412315\n",
       "9. 22.4399602040648\n",
       "10. 56.7668990045786\n",
       "\n",
       "\n"
      ],
      "text/plain": [
       " [1] 53.923597 42.439007 25.964914 10.811829  3.816838 50.506883 13.290013\n",
       " [8] 59.915808 22.439960 56.766899"
      ]
     },
     "metadata": {},
     "output_type": "display_data"
    }
   ],
   "source": [
    "runif(10, 0, 60) #gerando 10 numeros aleatorios entre 0 e 60"
   ]
  }
 ],
 "metadata": {
  "kernelspec": {
   "display_name": "R",
   "language": "R",
   "name": "ir"
  },
  "language_info": {
   "codemirror_mode": "r",
   "file_extension": ".r",
   "mimetype": "text/x-r-source",
   "name": "R",
   "pygments_lexer": "r",
   "version": "3.6.1"
  }
 },
 "nbformat": 4,
 "nbformat_minor": 5
}
